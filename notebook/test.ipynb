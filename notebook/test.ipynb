{
 "cells": [
  {
   "cell_type": "code",
   "execution_count": 1,
   "id": "0de5f2f7-6048-4f16-a7fc-59115117d1ab",
   "metadata": {},
   "outputs": [],
   "source": [
    "import pandas as pd\n",
    "import numpy as np\n",
    "import logging\n",
    "from sklearn.preprocessing import LabelEncoder\n",
    "from datetime import datetime\n",
    "import warnings\n",
    "warnings.filterwarnings('ignore')\n",
    "\n",
    "# Set up logging\n",
    "logging.basicConfig(level=logging.INFO, format='%(asctime)s - %(levelname)s - %(message)s')\n",
    "logger = logging.getLogger(__name__)\n",
    "\n",
    "\n",
    "\n"
   ]
  },
  {
   "cell_type": "code",
   "execution_count": 3,
   "id": "9bdbb27e-5bbc-4852-983e-a1fc9464467d",
   "metadata": {},
   "outputs": [
    {
     "name": "stderr",
     "output_type": "stream",
     "text": [
      "2025-06-26 05:10:18,018 - INFO - Loading datasets...\n",
      "2025-06-26 05:10:18,119 - INFO - Test data loaded: (41088, 8)\n",
      "2025-06-26 05:10:18,134 - INFO - Store data loaded: (1115, 10)\n"
     ]
    },
    {
     "name": "stdout",
     "output_type": "stream",
     "text": [
      "Test data shape: (41088, 8)\n",
      "Test data columns: ['Id', 'Store', 'DayOfWeek', 'Date', 'Open', 'Promo', 'StateHoliday', 'SchoolHoliday']\n",
      "Store data shape: (1115, 10)\n",
      "Store data columns: ['Store', 'StoreType', 'Assortment', 'CompetitionDistance', 'CompetitionOpenSinceMonth', 'CompetitionOpenSinceYear', 'Promo2', 'Promo2SinceWeek', 'Promo2SinceYear', 'PromoInterval']\n"
     ]
    }
   ],
   "source": [
    "\n",
    "# Load the datasets\n",
    "logger.info(\"Loading datasets...\")\n",
    "\n",
    "# Load test data\n",
    "test_df = pd.read_csv('test.csv')\n",
    "logger.info(f\"Test data loaded: {test_df.shape}\")\n",
    "print(f\"Test data shape: {test_df.shape}\")\n",
    "print(f\"Test data columns: {list(test_df.columns)}\")\n",
    "\n",
    "# Load store data\n",
    "store_df = pd.read_csv('store.csv')\n",
    "logger.info(f\"Store data loaded: {store_df.shape}\")\n",
    "print(f\"Store data shape: {store_df.shape}\")\n",
    "print(f\"Store data columns: {list(store_df.columns)}\")"
   ]
  },
  {
   "cell_type": "code",
   "execution_count": 5,
   "id": "041b4dea-90b9-406b-a682-3cceb9161776",
   "metadata": {},
   "outputs": [
    {
     "name": "stdout",
     "output_type": "stream",
     "text": [
      "\n",
      "=== Test Data Sample ===\n",
      "   Id  Store  DayOfWeek        Date  Open  Promo StateHoliday  SchoolHoliday\n",
      "0   1      1          4  2015-09-17   1.0      1            0              0\n",
      "1   2      3          4  2015-09-17   1.0      1            0              0\n",
      "2   3      7          4  2015-09-17   1.0      1            0              0\n",
      "3   4      8          4  2015-09-17   1.0      1            0              0\n",
      "4   5      9          4  2015-09-17   1.0      1            0              0\n",
      "\n",
      "=== Store Data Sample ===\n",
      "   Store StoreType Assortment  CompetitionDistance  CompetitionOpenSinceMonth  \\\n",
      "0      1         c          a               1270.0                        9.0   \n",
      "1      2         a          a                570.0                       11.0   \n",
      "2      3         a          a              14130.0                       12.0   \n",
      "3      4         c          c                620.0                        9.0   \n",
      "4      5         a          a              29910.0                        4.0   \n",
      "\n",
      "   CompetitionOpenSinceYear  Promo2  Promo2SinceWeek  Promo2SinceYear  \\\n",
      "0                    2008.0       0              NaN              NaN   \n",
      "1                    2007.0       1             13.0           2010.0   \n",
      "2                    2006.0       1             14.0           2011.0   \n",
      "3                    2009.0       0              NaN              NaN   \n",
      "4                    2015.0       0              NaN              NaN   \n",
      "\n",
      "     PromoInterval  \n",
      "0              NaN  \n",
      "1  Jan,Apr,Jul,Oct  \n",
      "2  Jan,Apr,Jul,Oct  \n",
      "3              NaN  \n",
      "4              NaN  \n"
     ]
    }
   ],
   "source": [
    "# Display first few rows\n",
    "print(\"\\n=== Test Data Sample ===\")\n",
    "print(test_df.head())\n",
    "\n",
    "print(\"\\n=== Store Data Sample ===\")\n",
    "print(store_df.head())"
   ]
  },
  {
   "cell_type": "code",
   "execution_count": 7,
   "id": "f5a96526-7bde-4878-94dc-8a5fc5228bc6",
   "metadata": {},
   "outputs": [
    {
     "name": "stderr",
     "output_type": "stream",
     "text": [
      "2025-06-26 05:10:57,668 - INFO - Checking missing values in test data...\n"
     ]
    },
    {
     "name": "stdout",
     "output_type": "stream",
     "text": [
      "\n",
      "=== DATA QUALITY ANALYSIS ===\n",
      "\n",
      "Missing values in Test data:\n",
      "Open: 11 (0.03%)\n"
     ]
    }
   ],
   "source": [
    "print(\"\\n=== DATA QUALITY ANALYSIS ===\")\n",
    "\n",
    "# Check missing values in test data\n",
    "logger.info(\"Checking missing values in test data...\")\n",
    "test_missing = test_df.isnull().sum()\n",
    "test_missing_percent = (test_missing / len(test_df)) * 100\n",
    "\n",
    "print(\"\\nMissing values in Test data:\")\n",
    "for col in test_df.columns:\n",
    "    if test_missing[col] > 0:\n",
    "        print(f\"{col}: {test_missing[col]} ({test_missing_percent[col]:.2f}%)\")\n"
   ]
  },
  {
   "cell_type": "code",
   "execution_count": 9,
   "id": "eea03b51-ad8f-41d4-ade8-ff25a52ecc7e",
   "metadata": {},
   "outputs": [
    {
     "name": "stderr",
     "output_type": "stream",
     "text": [
      "2025-06-26 05:11:17,204 - INFO - Checking missing values in store data...\n"
     ]
    },
    {
     "name": "stdout",
     "output_type": "stream",
     "text": [
      "\n",
      "Missing values in Store data:\n",
      "CompetitionDistance: 3 (0.27%)\n",
      "CompetitionOpenSinceMonth: 354 (31.75%)\n",
      "CompetitionOpenSinceYear: 354 (31.75%)\n",
      "Promo2SinceWeek: 544 (48.79%)\n",
      "Promo2SinceYear: 544 (48.79%)\n",
      "PromoInterval: 544 (48.79%)\n"
     ]
    }
   ],
   "source": [
    "# Check missing values in store data\n",
    "logger.info(\"Checking missing values in store data...\")\n",
    "store_missing = store_df.isnull().sum()\n",
    "store_missing_percent = (store_missing / len(store_df)) * 100\n",
    "\n",
    "print(\"\\nMissing values in Store data:\")\n",
    "for col in store_df.columns:\n",
    "    if store_missing[col] > 0:\n",
    "        print(f\"{col}: {store_missing[col]} ({store_missing_percent[col]:.2f}%)\")\n"
   ]
  },
  {
   "cell_type": "code",
   "execution_count": 11,
   "id": "714ceb8e-90ef-4bef-9214-2c672f0ed704",
   "metadata": {},
   "outputs": [
    {
     "name": "stdout",
     "output_type": "stream",
     "text": [
      "\n",
      "=== DATA TYPES ===\n",
      "\n",
      "Test data types:\n",
      "Id                 int64\n",
      "Store              int64\n",
      "DayOfWeek          int64\n",
      "Date              object\n",
      "Open             float64\n",
      "Promo              int64\n",
      "StateHoliday      object\n",
      "SchoolHoliday      int64\n",
      "dtype: object\n",
      "\n",
      "Store data types:\n",
      "Store                          int64\n",
      "StoreType                     object\n",
      "Assortment                    object\n",
      "CompetitionDistance          float64\n",
      "CompetitionOpenSinceMonth    float64\n",
      "CompetitionOpenSinceYear     float64\n",
      "Promo2                         int64\n",
      "Promo2SinceWeek              float64\n",
      "Promo2SinceYear              float64\n",
      "PromoInterval                 object\n",
      "dtype: object\n"
     ]
    }
   ],
   "source": [
    "# Check data types\n",
    "print(\"\\n=== DATA TYPES ===\")\n",
    "print(\"\\nTest data types:\")\n",
    "print(test_df.dtypes)\n",
    "\n",
    "print(\"\\nStore data types:\")\n",
    "print(store_df.dtypes)"
   ]
  },
  {
   "cell_type": "code",
   "execution_count": 13,
   "id": "ba1d4348-191e-4547-8e0a-cd7e31256328",
   "metadata": {},
   "outputs": [
    {
     "name": "stderr",
     "output_type": "stream",
     "text": [
      "2025-06-26 05:11:56,026 - INFO - Starting data cleaning for test data...\n",
      "2025-06-26 05:11:56,073 - INFO - Converted Date column to datetime\n"
     ]
    }
   ],
   "source": [
    "# ===========================================\n",
    "# DATA CLEANING - TEST DATA\n",
    "# ===========================================\n",
    "\n",
    "logger.info(\"Starting data cleaning for test data...\")\n",
    "\n",
    "# Make copies to preserve original data\n",
    "test_cleaned = test_df.copy()\n",
    "store_cleaned = store_df.copy()\n",
    "\n",
    "# Convert Date column to datetime\n",
    "test_cleaned['Date'] = pd.to_datetime(test_cleaned['Date'])\n",
    "logger.info(\"Converted Date column to datetime\")\n"
   ]
  },
  {
   "cell_type": "code",
   "execution_count": 15,
   "id": "f6fac4db-ec21-4816-aaa3-bd516aef034e",
   "metadata": {},
   "outputs": [
    {
     "name": "stderr",
     "output_type": "stream",
     "text": [
      "2025-06-26 05:12:21,217 - INFO - Filled missing Open values with 1\n"
     ]
    }
   ],
   "source": [
    "# Handle missing values in test data\n",
    "\n",
    "if 'Open' in test_cleaned.columns:\n",
    "    test_cleaned['Open'] = test_cleaned['Open'].fillna(1)\n",
    "    logger.info(\"Filled missing Open values with 1\")\n"
   ]
  },
  {
   "cell_type": "code",
   "execution_count": 17,
   "id": "2da21e14-7336-4f98-815c-6f7a825ad9e2",
   "metadata": {},
   "outputs": [
    {
     "name": "stderr",
     "output_type": "stream",
     "text": [
      "2025-06-26 05:12:43,149 - INFO - Starting data cleaning for store data...\n",
      "2025-06-26 05:12:43,161 - INFO - Filled missing CompetitionDistance with median: 2325.0\n"
     ]
    }
   ],
   "source": [
    "# ===========================================\n",
    "# DATA CLEANING - STORE DATA\n",
    "# ===========================================\n",
    "\n",
    "logger.info(\"Starting data cleaning for store data...\")\n",
    "\n",
    "# Handle missing values in store data\n",
    "# CompetitionDistance - fill with median or a large value\n",
    "if store_cleaned['CompetitionDistance'].isnull().sum() > 0:\n",
    "    median_distance = store_cleaned['CompetitionDistance'].median()\n",
    "    store_cleaned['CompetitionDistance'] = store_cleaned['CompetitionDistance'].fillna(median_distance)\n",
    "    logger.info(f\"Filled missing CompetitionDistance with median: {median_distance}\")"
   ]
  },
  {
   "cell_type": "code",
   "execution_count": 21,
   "id": "3ca7430d-b5ca-453e-bb83-1404780cf1d2",
   "metadata": {},
   "outputs": [
    {
     "name": "stderr",
     "output_type": "stream",
     "text": [
      "2025-06-26 05:13:40,486 - INFO - Filled missing CompetitionOpenSinceMonth with 0\n",
      "2025-06-26 05:13:40,494 - INFO - Filled missing CompetitionOpenSinceYear with 0\n",
      "2025-06-26 05:13:40,494 - INFO - Filled missing Promo2SinceWeek with 0\n",
      "2025-06-26 05:13:40,499 - INFO - Filled missing Promo2SinceYear with 0\n",
      "2025-06-26 05:13:40,504 - INFO - Filled missing PromoInterval with empty string\n",
      "2025-06-26 05:13:40,504 - INFO - Merging test and store data...\n",
      "2025-06-26 05:13:40,552 - INFO - Merged data shape: (41088, 17)\n"
     ]
    },
    {
     "name": "stdout",
     "output_type": "stream",
     "text": [
      "\n",
      "Merged data shape: (41088, 17)\n",
      "Merged data columns: ['Id', 'Store', 'DayOfWeek', 'Date', 'Open', 'Promo', 'StateHoliday', 'SchoolHoliday', 'StoreType', 'Assortment', 'CompetitionDistance', 'CompetitionOpenSinceMonth', 'CompetitionOpenSinceYear', 'Promo2', 'Promo2SinceWeek', 'Promo2SinceYear', 'PromoInterval']\n"
     ]
    }
   ],
   "source": [
    "# CompetitionOpenSinceMonth and CompetitionOpenSinceYear\n",
    "# Fill with 0 or a default value indicating no competition data\n",
    "competition_cols = ['CompetitionOpenSinceMonth', 'CompetitionOpenSinceYear']\n",
    "for col in competition_cols:\n",
    "    if col in store_cleaned.columns:\n",
    "        store_cleaned[col] = store_cleaned[col].fillna(0)\n",
    "        logger.info(f\"Filled missing {col} with 0\")\n",
    "\n",
    "# Promo2SinceWeek and Promo2SinceYear\n",
    "# Fill with 0 indicating no Promo2 participation\n",
    "promo2_cols = ['Promo2SinceWeek', 'Promo2SinceYear']\n",
    "for col in promo2_cols:\n",
    "    if col in store_cleaned.columns:\n",
    "        store_cleaned[col] = store_cleaned[col].fillna(0)\n",
    "        logger.info(f\"Filled missing {col} with 0\")\n",
    "\n",
    "# PromoInterval - fill with empty string\n",
    "if 'PromoInterval' in store_cleaned.columns:\n",
    "    store_cleaned['PromoInterval'] = store_cleaned['PromoInterval'].fillna('')\n",
    "    logger.info(\"Filled missing PromoInterval with empty string\")\n",
    "\n",
    "# ===========================================\n",
    "# MERGE TEST AND STORE DATA\n",
    "# ===========================================\n",
    "\n",
    "logger.info(\"Merging test and store data...\")\n",
    "# Merge test data with store data on Store column\n",
    "merged_df = test_cleaned.merge(store_cleaned, on='Store', how='left')\n",
    "logger.info(f\"Merged data shape: {merged_df.shape}\")\n",
    "\n",
    "print(f\"\\nMerged data shape: {merged_df.shape}\")\n",
    "print(f\"Merged data columns: {list(merged_df.columns)}\")\n"
   ]
  },
  {
   "cell_type": "code",
   "execution_count": 23,
   "id": "84af5099-1190-47d6-87a7-90f178f341c5",
   "metadata": {},
   "outputs": [
    {
     "name": "stdout",
     "output_type": "stream",
     "text": [
      "\n",
      "Missing values after merge:\n"
     ]
    }
   ],
   "source": [
    "# Check for any missing values after merge\n",
    "merged_missing = merged_df.isnull().sum()\n",
    "print(\"\\nMissing values after merge:\")\n",
    "for col in merged_df.columns:\n",
    "    if merged_missing[col] > 0:\n",
    "        print(f\"{col}: {merged_missing[col]} ({(merged_missing[col]/len(merged_df)*100):.2f}%)\")\n"
   ]
  },
  {
   "cell_type": "code",
   "execution_count": 25,
   "id": "8211d5e1-e401-4fa8-bd30-45da08e0e452",
   "metadata": {},
   "outputs": [
    {
     "name": "stderr",
     "output_type": "stream",
     "text": [
      "2025-06-26 05:14:47,943 - INFO - Creating date-based features...\n",
      "2025-06-26 05:14:48,018 - INFO - Created date-based features: Year, Month, Day, DayOfWeek, WeekOfYear, Quarter, IsWeekend, etc.\n"
     ]
    }
   ],
   "source": [
    "# ===========================================\n",
    "# FEATURE ENGINEERING FROM DATE\n",
    "# ===========================================\n",
    "\n",
    "logger.info(\"Creating date-based features...\")\n",
    "\n",
    "# Extract date components\n",
    "merged_df['Year'] = merged_df['Date'].dt.year\n",
    "merged_df['Month'] = merged_df['Date'].dt.month\n",
    "merged_df['Day'] = merged_df['Date'].dt.day\n",
    "merged_df['DayOfWeek'] = merged_df['Date'].dt.dayofweek  # 0=Monday, 6=Sunday\n",
    "merged_df['WeekOfYear'] = merged_df['Date'].dt.isocalendar().week\n",
    "merged_df['Quarter'] = merged_df['Date'].dt.quarter\n",
    "\n",
    "# Create weekend indicator\n",
    "merged_df['IsWeekend'] = (merged_df['DayOfWeek'] >= 5).astype(int)\n",
    "\n",
    "# Create month indicators\n",
    "merged_df['IsMonthStart'] = merged_df['Date'].dt.is_month_start.astype(int)\n",
    "merged_df['IsMonthEnd'] = merged_df['Date'].dt.is_month_end.astype(int)\n",
    "\n",
    "# Day of month categories\n",
    "merged_df['DayOfMonth'] = merged_df['Date'].dt.day\n",
    "merged_df['IsBeginningOfMonth'] = (merged_df['DayOfMonth'] <= 10).astype(int)\n",
    "merged_df['IsMiddleOfMonth'] = ((merged_df['DayOfMonth'] > 10) & (merged_df['DayOfMonth'] <= 20)).astype(int)\n",
    "merged_df['IsEndOfMonth'] = (merged_df['DayOfMonth'] > 20).astype(int)\n",
    "\n",
    "logger.info(\"Created date-based features: Year, Month, Day, DayOfWeek, WeekOfYear, Quarter, IsWeekend, etc.\")\n",
    "\n"
   ]
  },
  {
   "cell_type": "code",
   "execution_count": 27,
   "id": "e20c07b5-aec4-4dbd-bf32-fa98f535bcdc",
   "metadata": {},
   "outputs": [
    {
     "name": "stderr",
     "output_type": "stream",
     "text": [
      "2025-06-26 05:15:13,979 - INFO - Applying label encoding to categorical variables...\n",
      "2025-06-26 05:15:14,006 - INFO - Applied label encoding to StateHoliday\n",
      "2025-06-26 05:15:14,033 - INFO - Applied label encoding to StoreType\n",
      "2025-06-26 05:15:14,110 - INFO - Applied label encoding to Assortment\n",
      "2025-06-26 05:15:14,139 - INFO - Applied label encoding to PromoInterval\n"
     ]
    },
    {
     "name": "stdout",
     "output_type": "stream",
     "text": [
      "\n",
      "Label encoding for StateHoliday:\n",
      "  0 -> 0\n",
      "  a -> 1\n",
      "\n",
      "Label encoding for StoreType:\n",
      "  a -> 0\n",
      "  b -> 1\n",
      "  c -> 2\n",
      "  d -> 3\n",
      "\n",
      "Label encoding for Assortment:\n",
      "  a -> 0\n",
      "  b -> 1\n",
      "  c -> 2\n",
      "\n",
      "Label encoding for PromoInterval:\n",
      "   -> 0\n",
      "  Feb,May,Aug,Nov -> 1\n",
      "  Jan,Apr,Jul,Oct -> 2\n",
      "  Mar,Jun,Sept,Dec -> 3\n"
     ]
    }
   ],
   "source": [
    "# ===========================================\n",
    "# LABEL ENCODING FOR CATEGORICAL VARIABLES\n",
    "# ===========================================\n",
    "\n",
    "logger.info(\"Applying label encoding to categorical variables...\")\n",
    "\n",
    "# Initialize label encoders dictionary\n",
    "label_encoders = {}\n",
    "\n",
    "# Categorical columns that need label encoding\n",
    "categorical_columns = ['StateHoliday', 'StoreType', 'Assortment', 'PromoInterval']\n",
    "\n",
    "# Apply label encoding\n",
    "for col in categorical_columns:\n",
    "    if col in merged_df.columns:\n",
    "        le = LabelEncoder()\n",
    "        # Handle missing values by filling with 'Unknown' before encoding\n",
    "        merged_df[col] = merged_df[col].fillna('Unknown')\n",
    "        merged_df[f'{col}_Encoded'] = le.fit_transform(merged_df[col].astype(str))\n",
    "        label_encoders[col] = le\n",
    "        \n",
    "        # Display encoding mapping\n",
    "        print(f\"\\nLabel encoding for {col}:\")\n",
    "        for i, label in enumerate(le.classes_):\n",
    "            print(f\"  {label} -> {i}\")\n",
    "        \n",
    "        logger.info(f\"Applied label encoding to {col}\")"
   ]
  },
  {
   "cell_type": "code",
   "execution_count": 29,
   "id": "177494dd-5aba-4bd3-bbfc-86f96a52a05f",
   "metadata": {},
   "outputs": [
    {
     "name": "stderr",
     "output_type": "stream",
     "text": [
      "2025-06-26 05:15:44,773 - INFO - Created competition and promo-related features\n"
     ]
    }
   ],
   "source": [
    "# Competition features\n",
    "# Years since competition opened\n",
    "current_year = merged_df['Year'].max()\n",
    "merged_df['CompetitionOpenSinceYear'] = merged_df['CompetitionOpenSinceYear'].replace(0, current_year)\n",
    "merged_df['YearsSinceCompetitionOpen'] = merged_df['Year'] - merged_df['CompetitionOpenSinceYear']\n",
    "merged_df['YearsSinceCompetitionOpen'] = merged_df['YearsSinceCompetitionOpen'].clip(lower=0)\n",
    "\n",
    "# Months since competition opened\n",
    "merged_df['MonthsSinceCompetitionOpen'] = (merged_df['Year'] - merged_df['CompetitionOpenSinceYear']) * 12 + \\\n",
    "                                         (merged_df['Month'] - merged_df['CompetitionOpenSinceMonth'])\n",
    "merged_df['MonthsSinceCompetitionOpen'] = merged_df['MonthsSinceCompetitionOpen'].clip(lower=0)\n",
    "\n",
    "# Promo2 features\n",
    "# Weeks since Promo2 started\n",
    "merged_df['Promo2SinceYear'] = merged_df['Promo2SinceYear'].replace(0, current_year)\n",
    "merged_df['WeeksSincePromo2Start'] = (merged_df['Year'] - merged_df['Promo2SinceYear']) * 52 + \\\n",
    "                                    (merged_df['WeekOfYear'] - merged_df['Promo2SinceWeek'])\n",
    "merged_df['WeeksSincePromo2Start'] = merged_df['WeeksSincePromo2Start'].clip(lower=0)\n",
    "\n",
    "# Promo2 active indicator\n",
    "merged_df['IsPromo2Active'] = merged_df['Promo2'].copy()\n",
    "\n",
    "# Check if current month is in PromoInterval\n",
    "def is_promo_month(row):\n",
    "    if pd.isna(row['PromoInterval']) or row['PromoInterval'] == '':\n",
    "        return 0\n",
    "    \n",
    "    month_names = ['Jan', 'Feb', 'Mar', 'Apr', 'May', 'Jun',\n",
    "                   'Jul', 'Aug', 'Sep', 'Oct', 'Nov', 'Dec']\n",
    "    current_month = month_names[row['Month'] - 1]\n",
    "    \n",
    "    return 1 if current_month in row['PromoInterval'] else 0\n",
    "\n",
    "merged_df['IsPromoMonth'] = merged_df.apply(is_promo_month, axis=1)\n",
    "\n",
    "logger.info(\"Created competition and promo-related features\")\n"
   ]
  },
  {
   "cell_type": "code",
   "execution_count": 33,
   "id": "27472c85-d66a-45c9-aab6-04a11bb263bd",
   "metadata": {},
   "outputs": [
    {
     "name": "stderr",
     "output_type": "stream",
     "text": [
      "2025-06-26 05:16:19,068 - INFO - Final data cleaning and validation...\n"
     ]
    },
    {
     "name": "stdout",
     "output_type": "stream",
     "text": [
      "\n",
      "=== FINAL CLEANED DATA SUMMARY ===\n",
      "Final data shape: (41088, 38)\n",
      "Total columns: 38\n",
      "\n",
      "Remaining missing values: 0\n"
     ]
    }
   ],
   "source": [
    "logger.info(\"Final data cleaning and validation...\")\n",
    "\n",
    "# Handle any remaining missing values\n",
    "numeric_columns = merged_df.select_dtypes(include=[np.number]).columns\n",
    "for col in numeric_columns:\n",
    "    if merged_df[col].isnull().sum() > 0:\n",
    "        merged_df[col] = merged_df[col].fillna(merged_df[col].median())\n",
    "        logger.info(f\"Filled remaining missing values in {col} with median\")\n",
    "\n",
    "# Convert boolean columns to int\n",
    "bool_columns = merged_df.select_dtypes(include=['bool']).columns\n",
    "for col in bool_columns:\n",
    "    merged_df[col] = merged_df[col].astype(int)\n",
    "\n",
    "\n",
    "\n",
    "print(\"\\n=== FINAL CLEANED DATA SUMMARY ===\")\n",
    "print(f\"Final data shape: {merged_df.shape}\")\n",
    "print(f\"Total columns: {len(merged_df.columns)}\")\n",
    "\n",
    "# Check for missing values in final dataset\n",
    "final_missing = merged_df.isnull().sum()\n",
    "print(f\"\\nRemaining missing values: {final_missing.sum()}\")\n",
    "\n",
    "if final_missing.sum() > 0:\n",
    "    print(\"Columns with missing values:\")\n",
    "    for col in merged_df.columns:\n",
    "        if final_missing[col] > 0:\n",
    "            print(f\"  {col}: {final_missing[col]}\")"
   ]
  },
  {
   "cell_type": "code",
   "execution_count": 35,
   "id": "afd1ae3b-b7cc-44f1-baad-ebe88d70128e",
   "metadata": {},
   "outputs": [
    {
     "name": "stdout",
     "output_type": "stream",
     "text": [
      "\n",
      "Final data types:\n",
      "int32             16\n",
      "float64            8\n",
      "int64              7\n",
      "object             4\n",
      "datetime64[ns]     1\n",
      "UInt32             1\n",
      "Float64            1\n",
      "Name: count, dtype: int64\n",
      "\n",
      "=== SAMPLE OF CLEANED DATA ===\n",
      "   Id  Store  DayOfWeek       Date  Open  Promo StateHoliday  SchoolHoliday  \\\n",
      "0   1      1          3 2015-09-17   1.0      1            0              0   \n",
      "1   2      3          3 2015-09-17   1.0      1            0              0   \n",
      "2   3      7          3 2015-09-17   1.0      1            0              0   \n",
      "3   4      8          3 2015-09-17   1.0      1            0              0   \n",
      "4   5      9          3 2015-09-17   1.0      1            0              0   \n",
      "\n",
      "  StoreType Assortment  ...  IsEndOfMonth  StateHoliday_Encoded  \\\n",
      "0         c          a  ...             0                     0   \n",
      "1         a          a  ...             0                     0   \n",
      "2         a          c  ...             0                     0   \n",
      "3         a          a  ...             0                     0   \n",
      "4         a          c  ...             0                     0   \n",
      "\n",
      "   StoreType_Encoded  Assortment_Encoded  PromoInterval_Encoded  \\\n",
      "0                  2                   0                      0   \n",
      "1                  0                   0                      2   \n",
      "2                  0                   2                      0   \n",
      "3                  0                   0                      0   \n",
      "4                  0                   2                      0   \n",
      "\n",
      "   YearsSinceCompetitionOpen MonthsSinceCompetitionOpen  \\\n",
      "0                        7.0                       84.0   \n",
      "1                        9.0                      105.0   \n",
      "2                        2.0                       29.0   \n",
      "3                        1.0                       11.0   \n",
      "4                       15.0                      181.0   \n",
      "\n",
      "   WeeksSincePromo2Start  IsPromo2Active  IsPromoMonth  \n",
      "0                   38.0               0             0  \n",
      "1                  232.0               1             0  \n",
      "2                   38.0               0             0  \n",
      "3                   38.0               0             0  \n",
      "4                   38.0               0             0  \n",
      "\n",
      "[5 rows x 38 columns]\n"
     ]
    },
    {
     "name": "stderr",
     "output_type": "stream",
     "text": [
      "2025-06-26 05:16:36,874 - INFO - Saved cleaned data to 'cleaned_test_data.csv'\n"
     ]
    }
   ],
   "source": [
    "# Display data types\n",
    "print(\"\\nFinal data types:\")\n",
    "print(merged_df.dtypes.value_counts())\n",
    "\n",
    "# Display sample of cleaned data\n",
    "print(\"\\n=== SAMPLE OF CLEANED DATA ===\")\n",
    "print(merged_df.head())\n",
    "\n",
    "# Save cleaned data\n",
    "merged_df.to_csv('cleaned_test_data.csv', index=False)\n",
    "logger.info(\"Saved cleaned data to 'cleaned_test_data.csv'\")"
   ]
  },
  {
   "cell_type": "code",
   "execution_count": null,
   "id": "3eb9bdf3-c343-4ccc-97a5-55a58cc5ad43",
   "metadata": {},
   "outputs": [],
   "source": []
  }
 ],
 "metadata": {
  "kernelspec": {
   "display_name": "Python 3 (ipykernel)",
   "language": "python",
   "name": "python3"
  },
  "language_info": {
   "codemirror_mode": {
    "name": "ipython",
    "version": 3
   },
   "file_extension": ".py",
   "mimetype": "text/x-python",
   "name": "python",
   "nbconvert_exporter": "python",
   "pygments_lexer": "ipython3",
   "version": "3.12.4"
  }
 },
 "nbformat": 4,
 "nbformat_minor": 5
}
