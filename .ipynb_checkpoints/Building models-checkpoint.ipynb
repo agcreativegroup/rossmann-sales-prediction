{
 "cells": [
  {
   "cell_type": "code",
   "execution_count": 35,
   "id": "83f32f3b-a9ef-446f-9002-2a3e654ea568",
   "metadata": {},
   "outputs": [],
   "source": [
    "# MACHINE LEARNING MODELS WITH SKLEARN PIPELINES\n",
    "import pandas as pd\n",
    "import numpy as np\n",
    "import matplotlib.pyplot as plt\n",
    "import seaborn as sns\n",
    "import logging\n",
    "import pickle\n",
    "import joblib\n",
    "from datetime import datetime\n",
    "import warnings\n",
    "warnings.filterwarnings('ignore')\n",
    "\n",
    "# ML Libraries\n",
    "from sklearn.ensemble import RandomForestRegressor\n",
    "from sklearn.metrics import mean_squared_error, mean_absolute_error, r2_score\n",
    "from sklearn.model_selection import train_test_split\n",
    "from sklearn.preprocessing import StandardScaler, LabelEncoder\n",
    "from sklearn.pipeline import Pipeline\n",
    "import xgboost as xgb\n"
   ]
  },
  {
   "cell_type": "code",
   "execution_count": 41,
   "id": "37da05bd-2cfd-47ee-8c6f-43d2d1d0e7e3",
   "metadata": {},
   "outputs": [],
   "source": [
    "# Set up logging\n",
    "logging.basicConfig(level=logging.INFO)\n",
    "logger = logging.getLogger(__name__)"
   ]
  },
  {
   "cell_type": "code",
   "execution_count": 43,
   "id": "cc9c88ca-9a83-485a-b747-a4098c0ae29d",
   "metadata": {},
   "outputs": [
    {
     "name": "stderr",
     "output_type": "stream",
     "text": [
      "2025-06-16 15:42:33,226 - INFO - Loading Rossmann sales preprocessed data...\n",
      "2025-06-16 15:42:42,779 - INFO - Data loaded successfully. Train shape: (1017209, 44), Test shape: (41088, 17)\n"
     ]
    }
   ],
   "source": [
    "# Load the data\n",
    "logger.info(\"Loading Rossmann sales preprocessed data...\")\n",
    "\n",
    "try:\n",
    "    train_df = pd.read_csv('processed-data-set/train_preprocessed.csv')\n",
    "    test_df = pd.read_csv('processed-data-set/test_cleaned.csv',low_memory=False)\n",
    "    logger.info(f\"Data loaded successfully. Train shape: {train_df.shape}, Test shape: {test_df.shape}\")\n",
    "except FileNotFoundError:\n",
    "    logger.error(\"Data files not found.\")"
   ]
  },
  {
   "cell_type": "code",
   "execution_count": 45,
   "id": "f37a287a-9387-4244-860f-6b4e0187796f",
   "metadata": {},
   "outputs": [],
   "source": [
    "# TASK 2.2: BUILD MODELS WITH SKLEARN PIPELINES"
   ]
  },
  {
   "cell_type": "code",
   "execution_count": 47,
   "id": "6cfc7537-7bd9-40a6-adab-daaedcad0e72",
   "metadata": {},
   "outputs": [
    {
     "name": "stderr",
     "output_type": "stream",
     "text": [
      "2025-06-16 15:44:10,203 - INFO - Starting Task 2.2: Building ML Pipeline\n"
     ]
    }
   ],
   "source": [
    "# Assuming you have train_df and test_df ready after preprocessing\n",
    "logger.info(\"Starting Task 2.2: Building ML Pipeline\")\n",
    "\n",
    "# Prepare data\n",
    "X = train_df.drop(['Sales'], axis=1)\n",
    "y = train_df['Sales']\n",
    "\n",
    "# Handle categorical variables\n",
    "categorical_cols = X.select_dtypes(include=['object']).columns\n",
    "label_encoders = {}\n",
    "\n",
    "for col in categorical_cols:\n",
    "    if col != 'Date':\n",
    "        le = LabelEncoder()\n",
    "        X[col] = le.fit_transform(X[col].astype(str))\n",
    "        label_encoders[col] = le"
   ]
  },
  {
   "cell_type": "code",
   "execution_count": null,
   "id": "434ac88c-86c4-48d6-9e05-a02baa8cde72",
   "metadata": {},
   "outputs": [],
   "source": []
  }
 ],
 "metadata": {
  "kernelspec": {
   "display_name": "Python 3 (ipykernel)",
   "language": "python",
   "name": "python3"
  },
  "language_info": {
   "codemirror_mode": {
    "name": "ipython",
    "version": 3
   },
   "file_extension": ".py",
   "mimetype": "text/x-python",
   "name": "python",
   "nbconvert_exporter": "python",
   "pygments_lexer": "ipython3",
   "version": "3.12.4"
  }
 },
 "nbformat": 4,
 "nbformat_minor": 5
}
